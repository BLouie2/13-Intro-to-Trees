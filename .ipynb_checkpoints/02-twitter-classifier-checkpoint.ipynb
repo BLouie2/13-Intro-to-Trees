{
 "cells": [
  {
   "cell_type": "markdown",
   "metadata": {},
   "source": [
    "# Building a Classifier\n",
    "\n",
    "**GOALS**\n",
    "\n",
    "Build a Classifier that compares our classification methods in order to predict the individual who is tweeting: \n",
    "\n",
    "\n",
    "```\n",
    "@iamcardib\n",
    "@hillaryclinton\n",
    "@_yiannopoulos\n",
    "@thrashermag\n",
    "@fwmagazine\n",
    "```\n",
    "\n",
    "In order to do this, we will review the process of retrieving a tweet and building a dataframe from the text of the tweet.  From here, your goal is to\n",
    "\n",
    "1. Build a labeled dataframe containing at least 100 tweets from the five users.  \n",
    "2. Explore the top 5 retweeted tweets from each user, make a visualization, discuss\n",
    "3. Prepare the data for modeling using a `CountVectorizer` or `TfidfVectorizer`.  Remember to incorporate stop words and n-grams in your work.\n",
    "4. Use a `LogisticRegression` classifier to determine the user.  How did it perform?\n",
    "5. Use a `NaiveBayes` classifier to determine the user.  Did this do better?\n",
    "6. Use a `DecisionTreeClassifier` to model the tweets.  How did this compare to the other two methods?\n",
    "7. Build a table that compares the important information about these models.  \n",
    "8. Suppose your task is to verify whether or not another account was actually Milo all along.  Which model would you use?  Why?  "
   ]
  },
  {
   "cell_type": "code",
   "execution_count": 1,
   "metadata": {},
   "outputs": [],
   "source": [
    "#auth info\n",
    "\n"
   ]
  },
  {
   "cell_type": "code",
   "execution_count": 2,
   "metadata": {},
   "outputs": [],
   "source": [
    "import tweepy\n",
    "import json\n",
    "from tweepy import OAuthHandler\n",
    "auth = OAuthHandler(consumer_key, consumer_secret)\n",
    "auth.set_access_token(access_token, access_token_secret)\n",
    " \n",
    "api = tweepy.API(auth)"
   ]
  },
  {
   "cell_type": "code",
   "execution_count": 3,
   "metadata": {},
   "outputs": [
    {
     "name": "stdout",
     "output_type": "stream",
     "text": [
      "Paul Manafort was heading to jail, and the judge had a few choice words for him about recent allegations that he’d… https://t.co/dCbmdfeRMb\n",
      "China’s vaccine scandal is sparking protests and panic among parents https://t.co/HAWePDiSuR https://t.co/e688fMVehw\n",
      "How bad are the finances for state and local pensions? They have less than three quarters of the money they need to… https://t.co/gQxspCVj2x\n",
      "Is the third time the charm for the Three Stripes and James Harden? \n",
      "https://t.co/WYBf8G6zLW https://t.co/sdrLXFZlen\n",
      "Some entrepreneurs are meant to stay with their companies long term. But some are destined to start something new o… https://t.co/w8DnkAN1Sm\n",
      "It’s 2018. Can an app save a business? Absolutely, so long as it works. https://t.co/NITHpSUWJX\n",
      "The world's biggest toilet-building spree is under way in India https://t.co/m2V8NkvUv7 https://t.co/AE7O0p1rGu\n",
      "“Esto es solo un comienzo, no un final, de posibles sanciones”, afirma el \n",
      "comunicado de la Casa Blanca sobre Nicar… https://t.co/7JayYUTMLW\n",
      "¿Cuántas veces lo ha intentado y ha fracasado? Ahora tiene una oportunidad. ¡Pruebe! \n",
      "https://t.co/gjKwZArKqR https://t.co/UhFRAh5djq\n",
      "Líder religioso boricua es designado obispo para Latinoamérica https://t.co/vQbCLICu2i https://t.co/VO64l8U6Rh\n"
     ]
    }
   ],
   "source": [
    "for status in tweepy.Cursor(api.home_timeline).items(10):\n",
    "    # Process a single status\n",
    "    print(status.text)\n",
    "    \n",
    "# this cursor connects to twitter\n",
    "# show last 10 tweets on home timeline"
   ]
  },
  {
   "cell_type": "code",
   "execution_count": 4,
   "metadata": {},
   "outputs": [
    {
     "name": "stdout",
     "output_type": "stream",
     "text": [
      "{'created_at': 'Tue Jul 31 01:05:13 +0000 2018', 'id': 1024098623154532352, 'id_str': '1024098623154532352', 'text': 'Officials have ordered more Californian towns to evacuate as fires grow https://t.co/zq83urXmXQ https://t.co/vTssSbPOQa', 'truncated': False, 'entities': {'hashtags': [], 'symbols': [], 'user_mentions': [], 'urls': [{'url': 'https://t.co/zq83urXmXQ', 'expanded_url': 'https://bloom.bg/2vjI8G8', 'display_url': 'bloom.bg/2vjI8G8', 'indices': [72, 95]}], 'media': [{'id': 1024098619803107329, 'id_str': '1024098619803107329', 'indices': [96, 119], 'media_url': 'http://pbs.twimg.com/media/DjZURNBVAAEWEQY.jpg', 'media_url_https': 'https://pbs.twimg.com/media/DjZURNBVAAEWEQY.jpg', 'url': 'https://t.co/vTssSbPOQa', 'display_url': 'pic.twitter.com/vTssSbPOQa', 'expanded_url': 'https://twitter.com/business/status/1024098623154532352/photo/1', 'type': 'photo', 'sizes': {'thumb': {'w': 150, 'h': 150, 'resize': 'crop'}, 'small': {'w': 680, 'h': 419, 'resize': 'fit'}, 'large': {'w': 1200, 'h': 739, 'resize': 'fit'}, 'medium': {'w': 1200, 'h': 739, 'resize': 'fit'}}}]}, 'extended_entities': {'media': [{'id': 1024098619803107329, 'id_str': '1024098619803107329', 'indices': [96, 119], 'media_url': 'http://pbs.twimg.com/media/DjZURNBVAAEWEQY.jpg', 'media_url_https': 'https://pbs.twimg.com/media/DjZURNBVAAEWEQY.jpg', 'url': 'https://t.co/vTssSbPOQa', 'display_url': 'pic.twitter.com/vTssSbPOQa', 'expanded_url': 'https://twitter.com/business/status/1024098623154532352/photo/1', 'type': 'photo', 'sizes': {'thumb': {'w': 150, 'h': 150, 'resize': 'crop'}, 'small': {'w': 680, 'h': 419, 'resize': 'fit'}, 'large': {'w': 1200, 'h': 739, 'resize': 'fit'}, 'medium': {'w': 1200, 'h': 739, 'resize': 'fit'}}}]}, 'source': '<a href=\"http://www.socialflow.com\" rel=\"nofollow\">SocialFlow</a>', 'in_reply_to_status_id': None, 'in_reply_to_status_id_str': None, 'in_reply_to_user_id': None, 'in_reply_to_user_id_str': None, 'in_reply_to_screen_name': None, 'user': {'id': 34713362, 'id_str': '34713362', 'name': 'Bloomberg', 'screen_name': 'business', 'location': 'New York and the World', 'description': 'The first word in business news.', 'url': 'http://t.co/YFISwy1upH', 'entities': {'url': {'urls': [{'url': 'http://t.co/YFISwy1upH', 'expanded_url': 'http://www.bloomberg.com', 'display_url': 'bloomberg.com', 'indices': [0, 22]}]}, 'description': {'urls': []}}, 'protected': False, 'followers_count': 4794142, 'friends_count': 1164, 'listed_count': 48554, 'created_at': 'Thu Apr 23 20:05:17 +0000 2009', 'favourites_count': 381, 'utc_offset': None, 'time_zone': None, 'geo_enabled': False, 'verified': True, 'statuses_count': 366280, 'lang': 'en', 'contributors_enabled': False, 'is_translator': False, 'is_translation_enabled': True, 'profile_background_color': '101112', 'profile_background_image_url': 'http://abs.twimg.com/images/themes/theme9/bg.gif', 'profile_background_image_url_https': 'https://abs.twimg.com/images/themes/theme9/bg.gif', 'profile_background_tile': True, 'profile_image_url': 'http://pbs.twimg.com/profile_images/991818020233404416/alrBF_dr_normal.jpg', 'profile_image_url_https': 'https://pbs.twimg.com/profile_images/991818020233404416/alrBF_dr_normal.jpg', 'profile_banner_url': 'https://pbs.twimg.com/profile_banners/34713362/1503349279', 'profile_link_color': '3B94D9', 'profile_sidebar_border_color': 'DADADA', 'profile_sidebar_fill_color': 'EEEEEE', 'profile_text_color': '666666', 'profile_use_background_image': True, 'has_extended_profile': False, 'default_profile': False, 'default_profile_image': False, 'following': True, 'follow_request_sent': False, 'notifications': False, 'translator_type': 'none'}, 'geo': None, 'coordinates': None, 'place': None, 'contributors': None, 'is_quote_status': False, 'retweet_count': 7, 'favorite_count': 0, 'favorited': False, 'retweeted': False, 'possibly_sensitive': False, 'possibly_sensitive_appealable': False, 'lang': 'en'}\n"
     ]
    }
   ],
   "source": [
    "for status in tweepy.Cursor(api.home_timeline).items(1):\n",
    "    # Process a single status\n",
    "    print(status._json)"
   ]
  },
  {
   "cell_type": "code",
   "execution_count": 5,
   "metadata": {},
   "outputs": [],
   "source": [
    "def process_or_store(tweet):\n",
    "    print(json.dumps(tweet))"
   ]
  },
  {
   "cell_type": "code",
   "execution_count": 6,
   "metadata": {},
   "outputs": [
    {
     "name": "stdout",
     "output_type": "stream",
     "text": [
      "Status(_api=<tweepy.api.API object at 0x10efa2128>, _json={'created_at': 'Tue Jul 31 01:05:13 +0000 2018', 'id': 1024098623154532352, 'id_str': '1024098623154532352', 'text': 'Officials have ordered more Californian towns to evacuate as fires grow https://t.co/zq83urXmXQ https://t.co/vTssSbPOQa', 'truncated': False, 'entities': {'hashtags': [], 'symbols': [], 'user_mentions': [], 'urls': [{'url': 'https://t.co/zq83urXmXQ', 'expanded_url': 'https://bloom.bg/2vjI8G8', 'display_url': 'bloom.bg/2vjI8G8', 'indices': [72, 95]}], 'media': [{'id': 1024098619803107329, 'id_str': '1024098619803107329', 'indices': [96, 119], 'media_url': 'http://pbs.twimg.com/media/DjZURNBVAAEWEQY.jpg', 'media_url_https': 'https://pbs.twimg.com/media/DjZURNBVAAEWEQY.jpg', 'url': 'https://t.co/vTssSbPOQa', 'display_url': 'pic.twitter.com/vTssSbPOQa', 'expanded_url': 'https://twitter.com/business/status/1024098623154532352/photo/1', 'type': 'photo', 'sizes': {'thumb': {'w': 150, 'h': 150, 'resize': 'crop'}, 'small': {'w': 680, 'h': 419, 'resize': 'fit'}, 'large': {'w': 1200, 'h': 739, 'resize': 'fit'}, 'medium': {'w': 1200, 'h': 739, 'resize': 'fit'}}}]}, 'extended_entities': {'media': [{'id': 1024098619803107329, 'id_str': '1024098619803107329', 'indices': [96, 119], 'media_url': 'http://pbs.twimg.com/media/DjZURNBVAAEWEQY.jpg', 'media_url_https': 'https://pbs.twimg.com/media/DjZURNBVAAEWEQY.jpg', 'url': 'https://t.co/vTssSbPOQa', 'display_url': 'pic.twitter.com/vTssSbPOQa', 'expanded_url': 'https://twitter.com/business/status/1024098623154532352/photo/1', 'type': 'photo', 'sizes': {'thumb': {'w': 150, 'h': 150, 'resize': 'crop'}, 'small': {'w': 680, 'h': 419, 'resize': 'fit'}, 'large': {'w': 1200, 'h': 739, 'resize': 'fit'}, 'medium': {'w': 1200, 'h': 739, 'resize': 'fit'}}}]}, 'source': '<a href=\"http://www.socialflow.com\" rel=\"nofollow\">SocialFlow</a>', 'in_reply_to_status_id': None, 'in_reply_to_status_id_str': None, 'in_reply_to_user_id': None, 'in_reply_to_user_id_str': None, 'in_reply_to_screen_name': None, 'user': {'id': 34713362, 'id_str': '34713362', 'name': 'Bloomberg', 'screen_name': 'business', 'location': 'New York and the World', 'description': 'The first word in business news.', 'url': 'http://t.co/YFISwy1upH', 'entities': {'url': {'urls': [{'url': 'http://t.co/YFISwy1upH', 'expanded_url': 'http://www.bloomberg.com', 'display_url': 'bloomberg.com', 'indices': [0, 22]}]}, 'description': {'urls': []}}, 'protected': False, 'followers_count': 4794148, 'friends_count': 1164, 'listed_count': 48554, 'created_at': 'Thu Apr 23 20:05:17 +0000 2009', 'favourites_count': 381, 'utc_offset': None, 'time_zone': None, 'geo_enabled': False, 'verified': True, 'statuses_count': 366280, 'lang': 'en', 'contributors_enabled': False, 'is_translator': False, 'is_translation_enabled': True, 'profile_background_color': '101112', 'profile_background_image_url': 'http://abs.twimg.com/images/themes/theme9/bg.gif', 'profile_background_image_url_https': 'https://abs.twimg.com/images/themes/theme9/bg.gif', 'profile_background_tile': True, 'profile_image_url': 'http://pbs.twimg.com/profile_images/991818020233404416/alrBF_dr_normal.jpg', 'profile_image_url_https': 'https://pbs.twimg.com/profile_images/991818020233404416/alrBF_dr_normal.jpg', 'profile_banner_url': 'https://pbs.twimg.com/profile_banners/34713362/1503349279', 'profile_link_color': '3B94D9', 'profile_sidebar_border_color': 'DADADA', 'profile_sidebar_fill_color': 'EEEEEE', 'profile_text_color': '666666', 'profile_use_background_image': True, 'has_extended_profile': False, 'default_profile': False, 'default_profile_image': False, 'following': True, 'follow_request_sent': False, 'notifications': False, 'translator_type': 'none'}, 'geo': None, 'coordinates': None, 'place': None, 'contributors': None, 'is_quote_status': False, 'retweet_count': 12, 'favorite_count': 10, 'favorited': False, 'retweeted': False, 'possibly_sensitive': False, 'possibly_sensitive_appealable': False, 'lang': 'en'}, created_at=datetime.datetime(2018, 7, 31, 1, 5, 13), id=1024098623154532352, id_str='1024098623154532352', text='Officials have ordered more Californian towns to evacuate as fires grow https://t.co/zq83urXmXQ https://t.co/vTssSbPOQa', truncated=False, entities={'hashtags': [], 'symbols': [], 'user_mentions': [], 'urls': [{'url': 'https://t.co/zq83urXmXQ', 'expanded_url': 'https://bloom.bg/2vjI8G8', 'display_url': 'bloom.bg/2vjI8G8', 'indices': [72, 95]}], 'media': [{'id': 1024098619803107329, 'id_str': '1024098619803107329', 'indices': [96, 119], 'media_url': 'http://pbs.twimg.com/media/DjZURNBVAAEWEQY.jpg', 'media_url_https': 'https://pbs.twimg.com/media/DjZURNBVAAEWEQY.jpg', 'url': 'https://t.co/vTssSbPOQa', 'display_url': 'pic.twitter.com/vTssSbPOQa', 'expanded_url': 'https://twitter.com/business/status/1024098623154532352/photo/1', 'type': 'photo', 'sizes': {'thumb': {'w': 150, 'h': 150, 'resize': 'crop'}, 'small': {'w': 680, 'h': 419, 'resize': 'fit'}, 'large': {'w': 1200, 'h': 739, 'resize': 'fit'}, 'medium': {'w': 1200, 'h': 739, 'resize': 'fit'}}}]}, extended_entities={'media': [{'id': 1024098619803107329, 'id_str': '1024098619803107329', 'indices': [96, 119], 'media_url': 'http://pbs.twimg.com/media/DjZURNBVAAEWEQY.jpg', 'media_url_https': 'https://pbs.twimg.com/media/DjZURNBVAAEWEQY.jpg', 'url': 'https://t.co/vTssSbPOQa', 'display_url': 'pic.twitter.com/vTssSbPOQa', 'expanded_url': 'https://twitter.com/business/status/1024098623154532352/photo/1', 'type': 'photo', 'sizes': {'thumb': {'w': 150, 'h': 150, 'resize': 'crop'}, 'small': {'w': 680, 'h': 419, 'resize': 'fit'}, 'large': {'w': 1200, 'h': 739, 'resize': 'fit'}, 'medium': {'w': 1200, 'h': 739, 'resize': 'fit'}}}]}, source='SocialFlow', source_url='http://www.socialflow.com', in_reply_to_status_id=None, in_reply_to_status_id_str=None, in_reply_to_user_id=None, in_reply_to_user_id_str=None, in_reply_to_screen_name=None, author=User(_api=<tweepy.api.API object at 0x10efa2128>, _json={'id': 34713362, 'id_str': '34713362', 'name': 'Bloomberg', 'screen_name': 'business', 'location': 'New York and the World', 'description': 'The first word in business news.', 'url': 'http://t.co/YFISwy1upH', 'entities': {'url': {'urls': [{'url': 'http://t.co/YFISwy1upH', 'expanded_url': 'http://www.bloomberg.com', 'display_url': 'bloomberg.com', 'indices': [0, 22]}]}, 'description': {'urls': []}}, 'protected': False, 'followers_count': 4794148, 'friends_count': 1164, 'listed_count': 48554, 'created_at': 'Thu Apr 23 20:05:17 +0000 2009', 'favourites_count': 381, 'utc_offset': None, 'time_zone': None, 'geo_enabled': False, 'verified': True, 'statuses_count': 366280, 'lang': 'en', 'contributors_enabled': False, 'is_translator': False, 'is_translation_enabled': True, 'profile_background_color': '101112', 'profile_background_image_url': 'http://abs.twimg.com/images/themes/theme9/bg.gif', 'profile_background_image_url_https': 'https://abs.twimg.com/images/themes/theme9/bg.gif', 'profile_background_tile': True, 'profile_image_url': 'http://pbs.twimg.com/profile_images/991818020233404416/alrBF_dr_normal.jpg', 'profile_image_url_https': 'https://pbs.twimg.com/profile_images/991818020233404416/alrBF_dr_normal.jpg', 'profile_banner_url': 'https://pbs.twimg.com/profile_banners/34713362/1503349279', 'profile_link_color': '3B94D9', 'profile_sidebar_border_color': 'DADADA', 'profile_sidebar_fill_color': 'EEEEEE', 'profile_text_color': '666666', 'profile_use_background_image': True, 'has_extended_profile': False, 'default_profile': False, 'default_profile_image': False, 'following': True, 'follow_request_sent': False, 'notifications': False, 'translator_type': 'none'}, id=34713362, id_str='34713362', name='Bloomberg', screen_name='business', location='New York and the World', description='The first word in business news.', url='http://t.co/YFISwy1upH', entities={'url': {'urls': [{'url': 'http://t.co/YFISwy1upH', 'expanded_url': 'http://www.bloomberg.com', 'display_url': 'bloomberg.com', 'indices': [0, 22]}]}, 'description': {'urls': []}}, protected=False, followers_count=4794148, friends_count=1164, listed_count=48554, created_at=datetime.datetime(2009, 4, 23, 20, 5, 17), favourites_count=381, utc_offset=None, time_zone=None, geo_enabled=False, verified=True, statuses_count=366280, lang='en', contributors_enabled=False, is_translator=False, is_translation_enabled=True, profile_background_color='101112', profile_background_image_url='http://abs.twimg.com/images/themes/theme9/bg.gif', profile_background_image_url_https='https://abs.twimg.com/images/themes/theme9/bg.gif', profile_background_tile=True, profile_image_url='http://pbs.twimg.com/profile_images/991818020233404416/alrBF_dr_normal.jpg', profile_image_url_https='https://pbs.twimg.com/profile_images/991818020233404416/alrBF_dr_normal.jpg', profile_banner_url='https://pbs.twimg.com/profile_banners/34713362/1503349279', profile_link_color='3B94D9', profile_sidebar_border_color='DADADA', profile_sidebar_fill_color='EEEEEE', profile_text_color='666666', profile_use_background_image=True, has_extended_profile=False, default_profile=False, default_profile_image=False, following=True, follow_request_sent=False, notifications=False, translator_type='none'), user=User(_api=<tweepy.api.API object at 0x10efa2128>, _json={'id': 34713362, 'id_str': '34713362', 'name': 'Bloomberg', 'screen_name': 'business', 'location': 'New York and the World', 'description': 'The first word in business news.', 'url': 'http://t.co/YFISwy1upH', 'entities': {'url': {'urls': [{'url': 'http://t.co/YFISwy1upH', 'expanded_url': 'http://www.bloomberg.com', 'display_url': 'bloomberg.com', 'indices': [0, 22]}]}, 'description': {'urls': []}}, 'protected': False, 'followers_count': 4794148, 'friends_count': 1164, 'listed_count': 48554, 'created_at': 'Thu Apr 23 20:05:17 +0000 2009', 'favourites_count': 381, 'utc_offset': None, 'time_zone': None, 'geo_enabled': False, 'verified': True, 'statuses_count': 366280, 'lang': 'en', 'contributors_enabled': False, 'is_translator': False, 'is_translation_enabled': True, 'profile_background_color': '101112', 'profile_background_image_url': 'http://abs.twimg.com/images/themes/theme9/bg.gif', 'profile_background_image_url_https': 'https://abs.twimg.com/images/themes/theme9/bg.gif', 'profile_background_tile': True, 'profile_image_url': 'http://pbs.twimg.com/profile_images/991818020233404416/alrBF_dr_normal.jpg', 'profile_image_url_https': 'https://pbs.twimg.com/profile_images/991818020233404416/alrBF_dr_normal.jpg', 'profile_banner_url': 'https://pbs.twimg.com/profile_banners/34713362/1503349279', 'profile_link_color': '3B94D9', 'profile_sidebar_border_color': 'DADADA', 'profile_sidebar_fill_color': 'EEEEEE', 'profile_text_color': '666666', 'profile_use_background_image': True, 'has_extended_profile': False, 'default_profile': False, 'default_profile_image': False, 'following': True, 'follow_request_sent': False, 'notifications': False, 'translator_type': 'none'}, id=34713362, id_str='34713362', name='Bloomberg', screen_name='business', location='New York and the World', description='The first word in business news.', url='http://t.co/YFISwy1upH', entities={'url': {'urls': [{'url': 'http://t.co/YFISwy1upH', 'expanded_url': 'http://www.bloomberg.com', 'display_url': 'bloomberg.com', 'indices': [0, 22]}]}, 'description': {'urls': []}}, protected=False, followers_count=4794148, friends_count=1164, listed_count=48554, created_at=datetime.datetime(2009, 4, 23, 20, 5, 17), favourites_count=381, utc_offset=None, time_zone=None, geo_enabled=False, verified=True, statuses_count=366280, lang='en', contributors_enabled=False, is_translator=False, is_translation_enabled=True, profile_background_color='101112', profile_background_image_url='http://abs.twimg.com/images/themes/theme9/bg.gif', profile_background_image_url_https='https://abs.twimg.com/images/themes/theme9/bg.gif', profile_background_tile=True, profile_image_url='http://pbs.twimg.com/profile_images/991818020233404416/alrBF_dr_normal.jpg', profile_image_url_https='https://pbs.twimg.com/profile_images/991818020233404416/alrBF_dr_normal.jpg', profile_banner_url='https://pbs.twimg.com/profile_banners/34713362/1503349279', profile_link_color='3B94D9', profile_sidebar_border_color='DADADA', profile_sidebar_fill_color='EEEEEE', profile_text_color='666666', profile_use_background_image=True, has_extended_profile=False, default_profile=False, default_profile_image=False, following=True, follow_request_sent=False, notifications=False, translator_type='none'), geo=None, coordinates=None, place=None, contributors=None, is_quote_status=False, retweet_count=12, favorite_count=10, favorited=False, retweeted=False, possibly_sensitive=False, possibly_sensitive_appealable=False, lang='en')\n"
     ]
    }
   ],
   "source": [
    "for status in tweepy.Cursor(api.home_timeline).items(1):\n",
    "    print(status)"
   ]
  },
  {
   "cell_type": "code",
   "execution_count": 7,
   "metadata": {},
   "outputs": [
    {
     "name": "stdout",
     "output_type": "stream",
     "text": [
      "Status(_api=<tweepy.api.API object at 0x10efa2128>, _json={'created_at': 'Fri Jul 27 22:40:58 +0000 2018', 'id': 1022975158536097792, 'id_str': '1022975158536097792', 'text': 'Such a pleasure seeing @BetteMidler back where she belongs! Huge thanks to the cast and crew of @HelloDollyBway for… https://t.co/eSxSVjMh7I', 'truncated': True, 'entities': {'hashtags': [], 'symbols': [], 'user_mentions': [{'screen_name': 'BetteMidler', 'name': 'Bette Midler', 'id': 139823781, 'id_str': '139823781', 'indices': [23, 35]}, {'screen_name': 'HelloDollyBway', 'name': 'Hello, Dolly!', 'id': 4785031154, 'id_str': '4785031154', 'indices': [96, 111]}], 'urls': [{'url': 'https://t.co/eSxSVjMh7I', 'expanded_url': 'https://twitter.com/i/web/status/1022975158536097792', 'display_url': 'twitter.com/i/web/status/1…', 'indices': [117, 140]}]}, 'source': '<a href=\"http://twitter.com\" rel=\"nofollow\">Twitter Web Client</a>', 'in_reply_to_status_id': None, 'in_reply_to_status_id_str': None, 'in_reply_to_user_id': None, 'in_reply_to_user_id_str': None, 'in_reply_to_screen_name': None, 'user': {'id': 1339835893, 'id_str': '1339835893', 'name': 'Hillary Clinton', 'screen_name': 'HillaryClinton', 'location': 'New York, NY', 'description': '2016 Democratic Nominee, SecState, Senator, hair icon. Mom, Wife, Grandma x2, lawyer, advocate, fan of walks in the woods & standing up for our democracy.', 'url': 'https://t.co/99DVW9q1yt', 'entities': {'url': {'urls': [{'url': 'https://t.co/99DVW9q1yt', 'expanded_url': 'http://onwardtogether.org', 'display_url': 'onwardtogether.org', 'indices': [0, 23]}]}, 'description': {'urls': []}}, 'protected': False, 'followers_count': 23157234, 'friends_count': 771, 'listed_count': 40585, 'created_at': 'Tue Apr 09 18:04:35 +0000 2013', 'favourites_count': 1148, 'utc_offset': None, 'time_zone': None, 'geo_enabled': True, 'verified': True, 'statuses_count': 10181, 'lang': 'en', 'contributors_enabled': False, 'is_translator': False, 'is_translation_enabled': False, 'profile_background_color': '0057B8', 'profile_background_image_url': 'http://abs.twimg.com/images/themes/theme1/bg.png', 'profile_background_image_url_https': 'https://abs.twimg.com/images/themes/theme1/bg.png', 'profile_background_tile': False, 'profile_image_url': 'http://pbs.twimg.com/profile_images/839938827837976576/leN1zJJx_normal.jpg', 'profile_image_url_https': 'https://pbs.twimg.com/profile_images/839938827837976576/leN1zJJx_normal.jpg', 'profile_banner_url': 'https://pbs.twimg.com/profile_banners/1339835893/1476893928', 'profile_link_color': '0057B8', 'profile_sidebar_border_color': '000000', 'profile_sidebar_fill_color': '000000', 'profile_text_color': '000000', 'profile_use_background_image': False, 'has_extended_profile': True, 'default_profile': False, 'default_profile_image': False, 'following': False, 'follow_request_sent': False, 'notifications': False, 'translator_type': 'none'}, 'geo': None, 'coordinates': None, 'place': None, 'contributors': None, 'is_quote_status': True, 'quoted_status_id': 1022899775958642688, 'quoted_status_id_str': '1022899775958642688', 'quoted_status': {'created_at': 'Fri Jul 27 17:41:25 +0000 2018', 'id': 1022899775958642688, 'id_str': '1022899775958642688', 'text': 'What a night @HillaryClinton !! A thrill of a lifetime!\\n 📷 Bruce Glikas for @HelloDollyBway https://t.co/ugJf6xcGD8', 'truncated': False, 'entities': {'hashtags': [], 'symbols': [], 'user_mentions': [{'screen_name': 'HillaryClinton', 'name': 'Hillary Clinton', 'id': 1339835893, 'id_str': '1339835893', 'indices': [13, 28]}, {'screen_name': 'HelloDollyBway', 'name': 'Hello, Dolly!', 'id': 4785031154, 'id_str': '4785031154', 'indices': [76, 91]}], 'urls': [], 'media': [{'id': 1022899290480361472, 'id_str': '1022899290480361472', 'indices': [92, 115], 'media_url': 'http://pbs.twimg.com/media/DjIRfDIUwAAeuK3.jpg', 'media_url_https': 'https://pbs.twimg.com/media/DjIRfDIUwAAeuK3.jpg', 'url': 'https://t.co/ugJf6xcGD8', 'display_url': 'pic.twitter.com/ugJf6xcGD8', 'expanded_url': 'https://twitter.com/BetteMidler/status/1022899775958642688/photo/1', 'type': 'photo', 'sizes': {'large': {'w': 640, 'h': 640, 'resize': 'fit'}, 'thumb': {'w': 150, 'h': 150, 'resize': 'crop'}, 'small': {'w': 640, 'h': 640, 'resize': 'fit'}, 'medium': {'w': 640, 'h': 640, 'resize': 'fit'}}}]}, 'extended_entities': {'media': [{'id': 1022899290480361472, 'id_str': '1022899290480361472', 'indices': [92, 115], 'media_url': 'http://pbs.twimg.com/media/DjIRfDIUwAAeuK3.jpg', 'media_url_https': 'https://pbs.twimg.com/media/DjIRfDIUwAAeuK3.jpg', 'url': 'https://t.co/ugJf6xcGD8', 'display_url': 'pic.twitter.com/ugJf6xcGD8', 'expanded_url': 'https://twitter.com/BetteMidler/status/1022899775958642688/photo/1', 'type': 'photo', 'sizes': {'large': {'w': 640, 'h': 640, 'resize': 'fit'}, 'thumb': {'w': 150, 'h': 150, 'resize': 'crop'}, 'small': {'w': 640, 'h': 640, 'resize': 'fit'}, 'medium': {'w': 640, 'h': 640, 'resize': 'fit'}}}]}, 'source': '<a href=\"http://twitter.com\" rel=\"nofollow\">Twitter Web Client</a>', 'in_reply_to_status_id': None, 'in_reply_to_status_id_str': None, 'in_reply_to_user_id': None, 'in_reply_to_user_id_str': None, 'in_reply_to_screen_name': None, 'user': {'id': 139823781, 'id_str': '139823781', 'name': 'Bette Midler', 'screen_name': 'BetteMidler', 'location': 'New York, NY', 'description': 'And the darkest hour is just before dawn.', 'url': 'https://t.co/7ODxSaP5Lc', 'entities': {'url': {'urls': [{'url': 'https://t.co/7ODxSaP5Lc', 'expanded_url': 'http://BetteMidler.com', 'display_url': 'BetteMidler.com', 'indices': [0, 23]}]}, 'description': {'urls': []}}, 'protected': False, 'followers_count': 1416242, 'friends_count': 61, 'listed_count': 7783, 'created_at': 'Mon May 03 20:00:36 +0000 2010', 'favourites_count': 302, 'utc_offset': None, 'time_zone': None, 'geo_enabled': True, 'verified': True, 'statuses_count': 8885, 'lang': 'en', 'contributors_enabled': False, 'is_translator': False, 'is_translation_enabled': False, 'profile_background_color': 'FFFFFF', 'profile_background_image_url': 'http://abs.twimg.com/images/themes/theme1/bg.png', 'profile_background_image_url_https': 'https://abs.twimg.com/images/themes/theme1/bg.png', 'profile_background_tile': False, 'profile_image_url': 'http://pbs.twimg.com/profile_images/1004964783974690817/t8-JFMsI_normal.jpg', 'profile_image_url_https': 'https://pbs.twimg.com/profile_images/1004964783974690817/t8-JFMsI_normal.jpg', 'profile_banner_url': 'https://pbs.twimg.com/profile_banners/139823781/1528437233', 'profile_link_color': 'F5ABB5', 'profile_sidebar_border_color': 'FFFFFF', 'profile_sidebar_fill_color': 'DDEEF6', 'profile_text_color': '333333', 'profile_use_background_image': True, 'has_extended_profile': False, 'default_profile': False, 'default_profile_image': False, 'following': False, 'follow_request_sent': False, 'notifications': False, 'translator_type': 'none'}, 'geo': None, 'coordinates': None, 'place': None, 'contributors': None, 'is_quote_status': False, 'retweet_count': 3211, 'favorite_count': 25827, 'favorited': False, 'retweeted': False, 'possibly_sensitive': False, 'lang': 'en'}, 'retweet_count': 5717, 'favorite_count': 49708, 'favorited': False, 'retweeted': False, 'possibly_sensitive': False, 'lang': 'en'}, created_at=datetime.datetime(2018, 7, 27, 22, 40, 58), id=1022975158536097792, id_str='1022975158536097792', text='Such a pleasure seeing @BetteMidler back where she belongs! Huge thanks to the cast and crew of @HelloDollyBway for… https://t.co/eSxSVjMh7I', truncated=True, entities={'hashtags': [], 'symbols': [], 'user_mentions': [{'screen_name': 'BetteMidler', 'name': 'Bette Midler', 'id': 139823781, 'id_str': '139823781', 'indices': [23, 35]}, {'screen_name': 'HelloDollyBway', 'name': 'Hello, Dolly!', 'id': 4785031154, 'id_str': '4785031154', 'indices': [96, 111]}], 'urls': [{'url': 'https://t.co/eSxSVjMh7I', 'expanded_url': 'https://twitter.com/i/web/status/1022975158536097792', 'display_url': 'twitter.com/i/web/status/1…', 'indices': [117, 140]}]}, source='Twitter Web Client', source_url='http://twitter.com', in_reply_to_status_id=None, in_reply_to_status_id_str=None, in_reply_to_user_id=None, in_reply_to_user_id_str=None, in_reply_to_screen_name=None, author=User(_api=<tweepy.api.API object at 0x10efa2128>, _json={'id': 1339835893, 'id_str': '1339835893', 'name': 'Hillary Clinton', 'screen_name': 'HillaryClinton', 'location': 'New York, NY', 'description': '2016 Democratic Nominee, SecState, Senator, hair icon. Mom, Wife, Grandma x2, lawyer, advocate, fan of walks in the woods & standing up for our democracy.', 'url': 'https://t.co/99DVW9q1yt', 'entities': {'url': {'urls': [{'url': 'https://t.co/99DVW9q1yt', 'expanded_url': 'http://onwardtogether.org', 'display_url': 'onwardtogether.org', 'indices': [0, 23]}]}, 'description': {'urls': []}}, 'protected': False, 'followers_count': 23157234, 'friends_count': 771, 'listed_count': 40585, 'created_at': 'Tue Apr 09 18:04:35 +0000 2013', 'favourites_count': 1148, 'utc_offset': None, 'time_zone': None, 'geo_enabled': True, 'verified': True, 'statuses_count': 10181, 'lang': 'en', 'contributors_enabled': False, 'is_translator': False, 'is_translation_enabled': False, 'profile_background_color': '0057B8', 'profile_background_image_url': 'http://abs.twimg.com/images/themes/theme1/bg.png', 'profile_background_image_url_https': 'https://abs.twimg.com/images/themes/theme1/bg.png', 'profile_background_tile': False, 'profile_image_url': 'http://pbs.twimg.com/profile_images/839938827837976576/leN1zJJx_normal.jpg', 'profile_image_url_https': 'https://pbs.twimg.com/profile_images/839938827837976576/leN1zJJx_normal.jpg', 'profile_banner_url': 'https://pbs.twimg.com/profile_banners/1339835893/1476893928', 'profile_link_color': '0057B8', 'profile_sidebar_border_color': '000000', 'profile_sidebar_fill_color': '000000', 'profile_text_color': '000000', 'profile_use_background_image': False, 'has_extended_profile': True, 'default_profile': False, 'default_profile_image': False, 'following': False, 'follow_request_sent': False, 'notifications': False, 'translator_type': 'none'}, id=1339835893, id_str='1339835893', name='Hillary Clinton', screen_name='HillaryClinton', location='New York, NY', description='2016 Democratic Nominee, SecState, Senator, hair icon. Mom, Wife, Grandma x2, lawyer, advocate, fan of walks in the woods & standing up for our democracy.', url='https://t.co/99DVW9q1yt', entities={'url': {'urls': [{'url': 'https://t.co/99DVW9q1yt', 'expanded_url': 'http://onwardtogether.org', 'display_url': 'onwardtogether.org', 'indices': [0, 23]}]}, 'description': {'urls': []}}, protected=False, followers_count=23157234, friends_count=771, listed_count=40585, created_at=datetime.datetime(2013, 4, 9, 18, 4, 35), favourites_count=1148, utc_offset=None, time_zone=None, geo_enabled=True, verified=True, statuses_count=10181, lang='en', contributors_enabled=False, is_translator=False, is_translation_enabled=False, profile_background_color='0057B8', profile_background_image_url='http://abs.twimg.com/images/themes/theme1/bg.png', profile_background_image_url_https='https://abs.twimg.com/images/themes/theme1/bg.png', profile_background_tile=False, profile_image_url='http://pbs.twimg.com/profile_images/839938827837976576/leN1zJJx_normal.jpg', profile_image_url_https='https://pbs.twimg.com/profile_images/839938827837976576/leN1zJJx_normal.jpg', profile_banner_url='https://pbs.twimg.com/profile_banners/1339835893/1476893928', profile_link_color='0057B8', profile_sidebar_border_color='000000', profile_sidebar_fill_color='000000', profile_text_color='000000', profile_use_background_image=False, has_extended_profile=True, default_profile=False, default_profile_image=False, following=False, follow_request_sent=False, notifications=False, translator_type='none'), user=User(_api=<tweepy.api.API object at 0x10efa2128>, _json={'id': 1339835893, 'id_str': '1339835893', 'name': 'Hillary Clinton', 'screen_name': 'HillaryClinton', 'location': 'New York, NY', 'description': '2016 Democratic Nominee, SecState, Senator, hair icon. Mom, Wife, Grandma x2, lawyer, advocate, fan of walks in the woods & standing up for our democracy.', 'url': 'https://t.co/99DVW9q1yt', 'entities': {'url': {'urls': [{'url': 'https://t.co/99DVW9q1yt', 'expanded_url': 'http://onwardtogether.org', 'display_url': 'onwardtogether.org', 'indices': [0, 23]}]}, 'description': {'urls': []}}, 'protected': False, 'followers_count': 23157234, 'friends_count': 771, 'listed_count': 40585, 'created_at': 'Tue Apr 09 18:04:35 +0000 2013', 'favourites_count': 1148, 'utc_offset': None, 'time_zone': None, 'geo_enabled': True, 'verified': True, 'statuses_count': 10181, 'lang': 'en', 'contributors_enabled': False, 'is_translator': False, 'is_translation_enabled': False, 'profile_background_color': '0057B8', 'profile_background_image_url': 'http://abs.twimg.com/images/themes/theme1/bg.png', 'profile_background_image_url_https': 'https://abs.twimg.com/images/themes/theme1/bg.png', 'profile_background_tile': False, 'profile_image_url': 'http://pbs.twimg.com/profile_images/839938827837976576/leN1zJJx_normal.jpg', 'profile_image_url_https': 'https://pbs.twimg.com/profile_images/839938827837976576/leN1zJJx_normal.jpg', 'profile_banner_url': 'https://pbs.twimg.com/profile_banners/1339835893/1476893928', 'profile_link_color': '0057B8', 'profile_sidebar_border_color': '000000', 'profile_sidebar_fill_color': '000000', 'profile_text_color': '000000', 'profile_use_background_image': False, 'has_extended_profile': True, 'default_profile': False, 'default_profile_image': False, 'following': False, 'follow_request_sent': False, 'notifications': False, 'translator_type': 'none'}, id=1339835893, id_str='1339835893', name='Hillary Clinton', screen_name='HillaryClinton', location='New York, NY', description='2016 Democratic Nominee, SecState, Senator, hair icon. Mom, Wife, Grandma x2, lawyer, advocate, fan of walks in the woods & standing up for our democracy.', url='https://t.co/99DVW9q1yt', entities={'url': {'urls': [{'url': 'https://t.co/99DVW9q1yt', 'expanded_url': 'http://onwardtogether.org', 'display_url': 'onwardtogether.org', 'indices': [0, 23]}]}, 'description': {'urls': []}}, protected=False, followers_count=23157234, friends_count=771, listed_count=40585, created_at=datetime.datetime(2013, 4, 9, 18, 4, 35), favourites_count=1148, utc_offset=None, time_zone=None, geo_enabled=True, verified=True, statuses_count=10181, lang='en', contributors_enabled=False, is_translator=False, is_translation_enabled=False, profile_background_color='0057B8', profile_background_image_url='http://abs.twimg.com/images/themes/theme1/bg.png', profile_background_image_url_https='https://abs.twimg.com/images/themes/theme1/bg.png', profile_background_tile=False, profile_image_url='http://pbs.twimg.com/profile_images/839938827837976576/leN1zJJx_normal.jpg', profile_image_url_https='https://pbs.twimg.com/profile_images/839938827837976576/leN1zJJx_normal.jpg', profile_banner_url='https://pbs.twimg.com/profile_banners/1339835893/1476893928', profile_link_color='0057B8', profile_sidebar_border_color='000000', profile_sidebar_fill_color='000000', profile_text_color='000000', profile_use_background_image=False, has_extended_profile=True, default_profile=False, default_profile_image=False, following=False, follow_request_sent=False, notifications=False, translator_type='none'), geo=None, coordinates=None, place=None, contributors=None, is_quote_status=True, quoted_status_id=1022899775958642688, quoted_status_id_str='1022899775958642688', quoted_status=Status(_api=<tweepy.api.API object at 0x10efa2128>, _json={'created_at': 'Fri Jul 27 17:41:25 +0000 2018', 'id': 1022899775958642688, 'id_str': '1022899775958642688', 'text': 'What a night @HillaryClinton !! A thrill of a lifetime!\\n 📷 Bruce Glikas for @HelloDollyBway https://t.co/ugJf6xcGD8', 'truncated': False, 'entities': {'hashtags': [], 'symbols': [], 'user_mentions': [{'screen_name': 'HillaryClinton', 'name': 'Hillary Clinton', 'id': 1339835893, 'id_str': '1339835893', 'indices': [13, 28]}, {'screen_name': 'HelloDollyBway', 'name': 'Hello, Dolly!', 'id': 4785031154, 'id_str': '4785031154', 'indices': [76, 91]}], 'urls': [], 'media': [{'id': 1022899290480361472, 'id_str': '1022899290480361472', 'indices': [92, 115], 'media_url': 'http://pbs.twimg.com/media/DjIRfDIUwAAeuK3.jpg', 'media_url_https': 'https://pbs.twimg.com/media/DjIRfDIUwAAeuK3.jpg', 'url': 'https://t.co/ugJf6xcGD8', 'display_url': 'pic.twitter.com/ugJf6xcGD8', 'expanded_url': 'https://twitter.com/BetteMidler/status/1022899775958642688/photo/1', 'type': 'photo', 'sizes': {'large': {'w': 640, 'h': 640, 'resize': 'fit'}, 'thumb': {'w': 150, 'h': 150, 'resize': 'crop'}, 'small': {'w': 640, 'h': 640, 'resize': 'fit'}, 'medium': {'w': 640, 'h': 640, 'resize': 'fit'}}}]}, 'extended_entities': {'media': [{'id': 1022899290480361472, 'id_str': '1022899290480361472', 'indices': [92, 115], 'media_url': 'http://pbs.twimg.com/media/DjIRfDIUwAAeuK3.jpg', 'media_url_https': 'https://pbs.twimg.com/media/DjIRfDIUwAAeuK3.jpg', 'url': 'https://t.co/ugJf6xcGD8', 'display_url': 'pic.twitter.com/ugJf6xcGD8', 'expanded_url': 'https://twitter.com/BetteMidler/status/1022899775958642688/photo/1', 'type': 'photo', 'sizes': {'large': {'w': 640, 'h': 640, 'resize': 'fit'}, 'thumb': {'w': 150, 'h': 150, 'resize': 'crop'}, 'small': {'w': 640, 'h': 640, 'resize': 'fit'}, 'medium': {'w': 640, 'h': 640, 'resize': 'fit'}}}]}, 'source': '<a href=\"http://twitter.com\" rel=\"nofollow\">Twitter Web Client</a>', 'in_reply_to_status_id': None, 'in_reply_to_status_id_str': None, 'in_reply_to_user_id': None, 'in_reply_to_user_id_str': None, 'in_reply_to_screen_name': None, 'user': {'id': 139823781, 'id_str': '139823781', 'name': 'Bette Midler', 'screen_name': 'BetteMidler', 'location': 'New York, NY', 'description': 'And the darkest hour is just before dawn.', 'url': 'https://t.co/7ODxSaP5Lc', 'entities': {'url': {'urls': [{'url': 'https://t.co/7ODxSaP5Lc', 'expanded_url': 'http://BetteMidler.com', 'display_url': 'BetteMidler.com', 'indices': [0, 23]}]}, 'description': {'urls': []}}, 'protected': False, 'followers_count': 1416242, 'friends_count': 61, 'listed_count': 7783, 'created_at': 'Mon May 03 20:00:36 +0000 2010', 'favourites_count': 302, 'utc_offset': None, 'time_zone': None, 'geo_enabled': True, 'verified': True, 'statuses_count': 8885, 'lang': 'en', 'contributors_enabled': False, 'is_translator': False, 'is_translation_enabled': False, 'profile_background_color': 'FFFFFF', 'profile_background_image_url': 'http://abs.twimg.com/images/themes/theme1/bg.png', 'profile_background_image_url_https': 'https://abs.twimg.com/images/themes/theme1/bg.png', 'profile_background_tile': False, 'profile_image_url': 'http://pbs.twimg.com/profile_images/1004964783974690817/t8-JFMsI_normal.jpg', 'profile_image_url_https': 'https://pbs.twimg.com/profile_images/1004964783974690817/t8-JFMsI_normal.jpg', 'profile_banner_url': 'https://pbs.twimg.com/profile_banners/139823781/1528437233', 'profile_link_color': 'F5ABB5', 'profile_sidebar_border_color': 'FFFFFF', 'profile_sidebar_fill_color': 'DDEEF6', 'profile_text_color': '333333', 'profile_use_background_image': True, 'has_extended_profile': False, 'default_profile': False, 'default_profile_image': False, 'following': False, 'follow_request_sent': False, 'notifications': False, 'translator_type': 'none'}, 'geo': None, 'coordinates': None, 'place': None, 'contributors': None, 'is_quote_status': False, 'retweet_count': 3211, 'favorite_count': 25827, 'favorited': False, 'retweeted': False, 'possibly_sensitive': False, 'lang': 'en'}, created_at=datetime.datetime(2018, 7, 27, 17, 41, 25), id=1022899775958642688, id_str='1022899775958642688', text='What a night @HillaryClinton !! A thrill of a lifetime!\\n 📷 Bruce Glikas for @HelloDollyBway https://t.co/ugJf6xcGD8', truncated=False, entities={'hashtags': [], 'symbols': [], 'user_mentions': [{'screen_name': 'HillaryClinton', 'name': 'Hillary Clinton', 'id': 1339835893, 'id_str': '1339835893', 'indices': [13, 28]}, {'screen_name': 'HelloDollyBway', 'name': 'Hello, Dolly!', 'id': 4785031154, 'id_str': '4785031154', 'indices': [76, 91]}], 'urls': [], 'media': [{'id': 1022899290480361472, 'id_str': '1022899290480361472', 'indices': [92, 115], 'media_url': 'http://pbs.twimg.com/media/DjIRfDIUwAAeuK3.jpg', 'media_url_https': 'https://pbs.twimg.com/media/DjIRfDIUwAAeuK3.jpg', 'url': 'https://t.co/ugJf6xcGD8', 'display_url': 'pic.twitter.com/ugJf6xcGD8', 'expanded_url': 'https://twitter.com/BetteMidler/status/1022899775958642688/photo/1', 'type': 'photo', 'sizes': {'large': {'w': 640, 'h': 640, 'resize': 'fit'}, 'thumb': {'w': 150, 'h': 150, 'resize': 'crop'}, 'small': {'w': 640, 'h': 640, 'resize': 'fit'}, 'medium': {'w': 640, 'h': 640, 'resize': 'fit'}}}]}, extended_entities={'media': [{'id': 1022899290480361472, 'id_str': '1022899290480361472', 'indices': [92, 115], 'media_url': 'http://pbs.twimg.com/media/DjIRfDIUwAAeuK3.jpg', 'media_url_https': 'https://pbs.twimg.com/media/DjIRfDIUwAAeuK3.jpg', 'url': 'https://t.co/ugJf6xcGD8', 'display_url': 'pic.twitter.com/ugJf6xcGD8', 'expanded_url': 'https://twitter.com/BetteMidler/status/1022899775958642688/photo/1', 'type': 'photo', 'sizes': {'large': {'w': 640, 'h': 640, 'resize': 'fit'}, 'thumb': {'w': 150, 'h': 150, 'resize': 'crop'}, 'small': {'w': 640, 'h': 640, 'resize': 'fit'}, 'medium': {'w': 640, 'h': 640, 'resize': 'fit'}}}]}, source='Twitter Web Client', source_url='http://twitter.com', in_reply_to_status_id=None, in_reply_to_status_id_str=None, in_reply_to_user_id=None, in_reply_to_user_id_str=None, in_reply_to_screen_name=None, author=User(_api=<tweepy.api.API object at 0x10efa2128>, _json={'id': 139823781, 'id_str': '139823781', 'name': 'Bette Midler', 'screen_name': 'BetteMidler', 'location': 'New York, NY', 'description': 'And the darkest hour is just before dawn.', 'url': 'https://t.co/7ODxSaP5Lc', 'entities': {'url': {'urls': [{'url': 'https://t.co/7ODxSaP5Lc', 'expanded_url': 'http://BetteMidler.com', 'display_url': 'BetteMidler.com', 'indices': [0, 23]}]}, 'description': {'urls': []}}, 'protected': False, 'followers_count': 1416242, 'friends_count': 61, 'listed_count': 7783, 'created_at': 'Mon May 03 20:00:36 +0000 2010', 'favourites_count': 302, 'utc_offset': None, 'time_zone': None, 'geo_enabled': True, 'verified': True, 'statuses_count': 8885, 'lang': 'en', 'contributors_enabled': False, 'is_translator': False, 'is_translation_enabled': False, 'profile_background_color': 'FFFFFF', 'profile_background_image_url': 'http://abs.twimg.com/images/themes/theme1/bg.png', 'profile_background_image_url_https': 'https://abs.twimg.com/images/themes/theme1/bg.png', 'profile_background_tile': False, 'profile_image_url': 'http://pbs.twimg.com/profile_images/1004964783974690817/t8-JFMsI_normal.jpg', 'profile_image_url_https': 'https://pbs.twimg.com/profile_images/1004964783974690817/t8-JFMsI_normal.jpg', 'profile_banner_url': 'https://pbs.twimg.com/profile_banners/139823781/1528437233', 'profile_link_color': 'F5ABB5', 'profile_sidebar_border_color': 'FFFFFF', 'profile_sidebar_fill_color': 'DDEEF6', 'profile_text_color': '333333', 'profile_use_background_image': True, 'has_extended_profile': False, 'default_profile': False, 'default_profile_image': False, 'following': False, 'follow_request_sent': False, 'notifications': False, 'translator_type': 'none'}, id=139823781, id_str='139823781', name='Bette Midler', screen_name='BetteMidler', location='New York, NY', description='And the darkest hour is just before dawn.', url='https://t.co/7ODxSaP5Lc', entities={'url': {'urls': [{'url': 'https://t.co/7ODxSaP5Lc', 'expanded_url': 'http://BetteMidler.com', 'display_url': 'BetteMidler.com', 'indices': [0, 23]}]}, 'description': {'urls': []}}, protected=False, followers_count=1416242, friends_count=61, listed_count=7783, created_at=datetime.datetime(2010, 5, 3, 20, 0, 36), favourites_count=302, utc_offset=None, time_zone=None, geo_enabled=True, verified=True, statuses_count=8885, lang='en', contributors_enabled=False, is_translator=False, is_translation_enabled=False, profile_background_color='FFFFFF', profile_background_image_url='http://abs.twimg.com/images/themes/theme1/bg.png', profile_background_image_url_https='https://abs.twimg.com/images/themes/theme1/bg.png', profile_background_tile=False, profile_image_url='http://pbs.twimg.com/profile_images/1004964783974690817/t8-JFMsI_normal.jpg', profile_image_url_https='https://pbs.twimg.com/profile_images/1004964783974690817/t8-JFMsI_normal.jpg', profile_banner_url='https://pbs.twimg.com/profile_banners/139823781/1528437233', profile_link_color='F5ABB5', profile_sidebar_border_color='FFFFFF', profile_sidebar_fill_color='DDEEF6', profile_text_color='333333', profile_use_background_image=True, has_extended_profile=False, default_profile=False, default_profile_image=False, following=False, follow_request_sent=False, notifications=False, translator_type='none'), user=User(_api=<tweepy.api.API object at 0x10efa2128>, _json={'id': 139823781, 'id_str': '139823781', 'name': 'Bette Midler', 'screen_name': 'BetteMidler', 'location': 'New York, NY', 'description': 'And the darkest hour is just before dawn.', 'url': 'https://t.co/7ODxSaP5Lc', 'entities': {'url': {'urls': [{'url': 'https://t.co/7ODxSaP5Lc', 'expanded_url': 'http://BetteMidler.com', 'display_url': 'BetteMidler.com', 'indices': [0, 23]}]}, 'description': {'urls': []}}, 'protected': False, 'followers_count': 1416242, 'friends_count': 61, 'listed_count': 7783, 'created_at': 'Mon May 03 20:00:36 +0000 2010', 'favourites_count': 302, 'utc_offset': None, 'time_zone': None, 'geo_enabled': True, 'verified': True, 'statuses_count': 8885, 'lang': 'en', 'contributors_enabled': False, 'is_translator': False, 'is_translation_enabled': False, 'profile_background_color': 'FFFFFF', 'profile_background_image_url': 'http://abs.twimg.com/images/themes/theme1/bg.png', 'profile_background_image_url_https': 'https://abs.twimg.com/images/themes/theme1/bg.png', 'profile_background_tile': False, 'profile_image_url': 'http://pbs.twimg.com/profile_images/1004964783974690817/t8-JFMsI_normal.jpg', 'profile_image_url_https': 'https://pbs.twimg.com/profile_images/1004964783974690817/t8-JFMsI_normal.jpg', 'profile_banner_url': 'https://pbs.twimg.com/profile_banners/139823781/1528437233', 'profile_link_color': 'F5ABB5', 'profile_sidebar_border_color': 'FFFFFF', 'profile_sidebar_fill_color': 'DDEEF6', 'profile_text_color': '333333', 'profile_use_background_image': True, 'has_extended_profile': False, 'default_profile': False, 'default_profile_image': False, 'following': False, 'follow_request_sent': False, 'notifications': False, 'translator_type': 'none'}, id=139823781, id_str='139823781', name='Bette Midler', screen_name='BetteMidler', location='New York, NY', description='And the darkest hour is just before dawn.', url='https://t.co/7ODxSaP5Lc', entities={'url': {'urls': [{'url': 'https://t.co/7ODxSaP5Lc', 'expanded_url': 'http://BetteMidler.com', 'display_url': 'BetteMidler.com', 'indices': [0, 23]}]}, 'description': {'urls': []}}, protected=False, followers_count=1416242, friends_count=61, listed_count=7783, created_at=datetime.datetime(2010, 5, 3, 20, 0, 36), favourites_count=302, utc_offset=None, time_zone=None, geo_enabled=True, verified=True, statuses_count=8885, lang='en', contributors_enabled=False, is_translator=False, is_translation_enabled=False, profile_background_color='FFFFFF', profile_background_image_url='http://abs.twimg.com/images/themes/theme1/bg.png', profile_background_image_url_https='https://abs.twimg.com/images/themes/theme1/bg.png', profile_background_tile=False, profile_image_url='http://pbs.twimg.com/profile_images/1004964783974690817/t8-JFMsI_normal.jpg', profile_image_url_https='https://pbs.twimg.com/profile_images/1004964783974690817/t8-JFMsI_normal.jpg', profile_banner_url='https://pbs.twimg.com/profile_banners/139823781/1528437233', profile_link_color='F5ABB5', profile_sidebar_border_color='FFFFFF', profile_sidebar_fill_color='DDEEF6', profile_text_color='333333', profile_use_background_image=True, has_extended_profile=False, default_profile=False, default_profile_image=False, following=False, follow_request_sent=False, notifications=False, translator_type='none'), geo=None, coordinates=None, place=None, contributors=None, is_quote_status=False, retweet_count=3211, favorite_count=25827, favorited=False, retweeted=False, possibly_sensitive=False, lang='en'), retweet_count=5717, favorite_count=49708, favorited=False, retweeted=False, possibly_sensitive=False, lang='en')\n"
     ]
    }
   ],
   "source": [
    "for tweet in tweepy.Cursor(api.user_timeline, id = \"hillaryclinton\").items(1):\n",
    "    print(tweet)"
   ]
  },
  {
   "cell_type": "code",
   "execution_count": 8,
   "metadata": {},
   "outputs": [
    {
     "name": "stdout",
     "output_type": "stream",
     "text": [
      "Such a pleasure seeing @BetteMidler back where she belongs! Huge thanks to the cast and crew of @HelloDollyBway for… https://t.co/eSxSVjMh7I\n"
     ]
    }
   ],
   "source": [
    "for tweet in tweepy.Cursor(api.user_timeline, id = \"hillaryclinton\").items(1):\n",
    "    print(tweet._json['text'])"
   ]
  },
  {
   "cell_type": "code",
   "execution_count": 9,
   "metadata": {},
   "outputs": [
    {
     "name": "stdout",
     "output_type": "stream",
     "text": [
      "\"Such a pleasure seeing @BetteMidler back where she belongs! Huge thanks to the cast and crew of @HelloDollyBway for\\u2026 https://t.co/eSxSVjMh7I\"\n"
     ]
    }
   ],
   "source": [
    "for tweet in tweepy.Cursor(api.user_timeline, id = \"hillaryclinton\").items(1):\n",
    "    print(json.dumps(tweet._json['text']))"
   ]
  },
  {
   "cell_type": "code",
   "execution_count": 10,
   "metadata": {},
   "outputs": [
    {
     "name": "stdout",
     "output_type": "stream",
     "text": [
      "{\"created_at\": \"Fri Jul 27 22:40:58 +0000 2018\", \"id\": 1022975158536097792, \"id_str\": \"1022975158536097792\", \"text\": \"Such a pleasure seeing @BetteMidler back where she belongs! Huge thanks to the cast and crew of @HelloDollyBway for\\u2026 https://t.co/eSxSVjMh7I\", \"truncated\": true, \"entities\": {\"hashtags\": [], \"symbols\": [], \"user_mentions\": [{\"screen_name\": \"BetteMidler\", \"name\": \"Bette Midler\", \"id\": 139823781, \"id_str\": \"139823781\", \"indices\": [23, 35]}, {\"screen_name\": \"HelloDollyBway\", \"name\": \"Hello, Dolly!\", \"id\": 4785031154, \"id_str\": \"4785031154\", \"indices\": [96, 111]}], \"urls\": [{\"url\": \"https://t.co/eSxSVjMh7I\", \"expanded_url\": \"https://twitter.com/i/web/status/1022975158536097792\", \"display_url\": \"twitter.com/i/web/status/1\\u2026\", \"indices\": [117, 140]}]}, \"source\": \"<a href=\\\"http://twitter.com\\\" rel=\\\"nofollow\\\">Twitter Web Client</a>\", \"in_reply_to_status_id\": null, \"in_reply_to_status_id_str\": null, \"in_reply_to_user_id\": null, \"in_reply_to_user_id_str\": null, \"in_reply_to_screen_name\": null, \"user\": {\"id\": 1339835893, \"id_str\": \"1339835893\", \"name\": \"Hillary Clinton\", \"screen_name\": \"HillaryClinton\", \"location\": \"New York, NY\", \"description\": \"2016 Democratic Nominee, SecState, Senator, hair icon. Mom, Wife, Grandma x2, lawyer, advocate, fan of walks in the woods & standing up for our democracy.\", \"url\": \"https://t.co/99DVW9q1yt\", \"entities\": {\"url\": {\"urls\": [{\"url\": \"https://t.co/99DVW9q1yt\", \"expanded_url\": \"http://onwardtogether.org\", \"display_url\": \"onwardtogether.org\", \"indices\": [0, 23]}]}, \"description\": {\"urls\": []}}, \"protected\": false, \"followers_count\": 23157236, \"friends_count\": 771, \"listed_count\": 40585, \"created_at\": \"Tue Apr 09 18:04:35 +0000 2013\", \"favourites_count\": 1148, \"utc_offset\": null, \"time_zone\": null, \"geo_enabled\": true, \"verified\": true, \"statuses_count\": 10181, \"lang\": \"en\", \"contributors_enabled\": false, \"is_translator\": false, \"is_translation_enabled\": false, \"profile_background_color\": \"0057B8\", \"profile_background_image_url\": \"http://abs.twimg.com/images/themes/theme1/bg.png\", \"profile_background_image_url_https\": \"https://abs.twimg.com/images/themes/theme1/bg.png\", \"profile_background_tile\": false, \"profile_image_url\": \"http://pbs.twimg.com/profile_images/839938827837976576/leN1zJJx_normal.jpg\", \"profile_image_url_https\": \"https://pbs.twimg.com/profile_images/839938827837976576/leN1zJJx_normal.jpg\", \"profile_banner_url\": \"https://pbs.twimg.com/profile_banners/1339835893/1476893928\", \"profile_link_color\": \"0057B8\", \"profile_sidebar_border_color\": \"000000\", \"profile_sidebar_fill_color\": \"000000\", \"profile_text_color\": \"000000\", \"profile_use_background_image\": false, \"has_extended_profile\": true, \"default_profile\": false, \"default_profile_image\": false, \"following\": false, \"follow_request_sent\": false, \"notifications\": false, \"translator_type\": \"none\"}, \"geo\": null, \"coordinates\": null, \"place\": null, \"contributors\": null, \"is_quote_status\": true, \"quoted_status_id\": 1022899775958642688, \"quoted_status_id_str\": \"1022899775958642688\", \"quoted_status\": {\"created_at\": \"Fri Jul 27 17:41:25 +0000 2018\", \"id\": 1022899775958642688, \"id_str\": \"1022899775958642688\", \"text\": \"What a night @HillaryClinton !! A thrill of a lifetime!\\n \\ud83d\\udcf7 Bruce Glikas for @HelloDollyBway https://t.co/ugJf6xcGD8\", \"truncated\": false, \"entities\": {\"hashtags\": [], \"symbols\": [], \"user_mentions\": [{\"screen_name\": \"HillaryClinton\", \"name\": \"Hillary Clinton\", \"id\": 1339835893, \"id_str\": \"1339835893\", \"indices\": [13, 28]}, {\"screen_name\": \"HelloDollyBway\", \"name\": \"Hello, Dolly!\", \"id\": 4785031154, \"id_str\": \"4785031154\", \"indices\": [76, 91]}], \"urls\": [], \"media\": [{\"id\": 1022899290480361472, \"id_str\": \"1022899290480361472\", \"indices\": [92, 115], \"media_url\": \"http://pbs.twimg.com/media/DjIRfDIUwAAeuK3.jpg\", \"media_url_https\": \"https://pbs.twimg.com/media/DjIRfDIUwAAeuK3.jpg\", \"url\": \"https://t.co/ugJf6xcGD8\", \"display_url\": \"pic.twitter.com/ugJf6xcGD8\", \"expanded_url\": \"https://twitter.com/BetteMidler/status/1022899775958642688/photo/1\", \"type\": \"photo\", \"sizes\": {\"large\": {\"w\": 640, \"h\": 640, \"resize\": \"fit\"}, \"thumb\": {\"w\": 150, \"h\": 150, \"resize\": \"crop\"}, \"small\": {\"w\": 640, \"h\": 640, \"resize\": \"fit\"}, \"medium\": {\"w\": 640, \"h\": 640, \"resize\": \"fit\"}}}]}, \"extended_entities\": {\"media\": [{\"id\": 1022899290480361472, \"id_str\": \"1022899290480361472\", \"indices\": [92, 115], \"media_url\": \"http://pbs.twimg.com/media/DjIRfDIUwAAeuK3.jpg\", \"media_url_https\": \"https://pbs.twimg.com/media/DjIRfDIUwAAeuK3.jpg\", \"url\": \"https://t.co/ugJf6xcGD8\", \"display_url\": \"pic.twitter.com/ugJf6xcGD8\", \"expanded_url\": \"https://twitter.com/BetteMidler/status/1022899775958642688/photo/1\", \"type\": \"photo\", \"sizes\": {\"large\": {\"w\": 640, \"h\": 640, \"resize\": \"fit\"}, \"thumb\": {\"w\": 150, \"h\": 150, \"resize\": \"crop\"}, \"small\": {\"w\": 640, \"h\": 640, \"resize\": \"fit\"}, \"medium\": {\"w\": 640, \"h\": 640, \"resize\": \"fit\"}}}]}, \"source\": \"<a href=\\\"http://twitter.com\\\" rel=\\\"nofollow\\\">Twitter Web Client</a>\", \"in_reply_to_status_id\": null, \"in_reply_to_status_id_str\": null, \"in_reply_to_user_id\": null, \"in_reply_to_user_id_str\": null, \"in_reply_to_screen_name\": null, \"user\": {\"id\": 139823781, \"id_str\": \"139823781\", \"name\": \"Bette Midler\", \"screen_name\": \"BetteMidler\", \"location\": \"New York, NY\", \"description\": \"And the darkest hour is just before dawn.\", \"url\": \"https://t.co/7ODxSaP5Lc\", \"entities\": {\"url\": {\"urls\": [{\"url\": \"https://t.co/7ODxSaP5Lc\", \"expanded_url\": \"http://BetteMidler.com\", \"display_url\": \"BetteMidler.com\", \"indices\": [0, 23]}]}, \"description\": {\"urls\": []}}, \"protected\": false, \"followers_count\": 1416242, \"friends_count\": 61, \"listed_count\": 7783, \"created_at\": \"Mon May 03 20:00:36 +0000 2010\", \"favourites_count\": 302, \"utc_offset\": null, \"time_zone\": null, \"geo_enabled\": true, \"verified\": true, \"statuses_count\": 8885, \"lang\": \"en\", \"contributors_enabled\": false, \"is_translator\": false, \"is_translation_enabled\": false, \"profile_background_color\": \"FFFFFF\", \"profile_background_image_url\": \"http://abs.twimg.com/images/themes/theme1/bg.png\", \"profile_background_image_url_https\": \"https://abs.twimg.com/images/themes/theme1/bg.png\", \"profile_background_tile\": false, \"profile_image_url\": \"http://pbs.twimg.com/profile_images/1004964783974690817/t8-JFMsI_normal.jpg\", \"profile_image_url_https\": \"https://pbs.twimg.com/profile_images/1004964783974690817/t8-JFMsI_normal.jpg\", \"profile_banner_url\": \"https://pbs.twimg.com/profile_banners/139823781/1528437233\", \"profile_link_color\": \"F5ABB5\", \"profile_sidebar_border_color\": \"FFFFFF\", \"profile_sidebar_fill_color\": \"DDEEF6\", \"profile_text_color\": \"333333\", \"profile_use_background_image\": true, \"has_extended_profile\": false, \"default_profile\": false, \"default_profile_image\": false, \"following\": false, \"follow_request_sent\": false, \"notifications\": false, \"translator_type\": \"none\"}, \"geo\": null, \"coordinates\": null, \"place\": null, \"contributors\": null, \"is_quote_status\": false, \"retweet_count\": 3211, \"favorite_count\": 25827, \"favorited\": false, \"retweeted\": false, \"possibly_sensitive\": false, \"lang\": \"en\"}, \"retweet_count\": 5717, \"favorite_count\": 49709, \"favorited\": false, \"retweeted\": false, \"possibly_sensitive\": false, \"lang\": \"en\"}\n"
     ]
    }
   ],
   "source": [
    "for tweet in tweepy.Cursor(api.user_timeline, id = \"hillaryclinton\").items(1):\n",
    "    print(json.dumps(tweet._json))"
   ]
  },
  {
   "cell_type": "code",
   "execution_count": 11,
   "metadata": {},
   "outputs": [
    {
     "name": "stdout",
     "output_type": "stream",
     "text": [
      "dict_keys(['created_at', 'id', 'id_str', 'text', 'truncated', 'entities', 'source', 'in_reply_to_status_id', 'in_reply_to_status_id_str', 'in_reply_to_user_id', 'in_reply_to_user_id_str', 'in_reply_to_screen_name', 'user', 'geo', 'coordinates', 'place', 'contributors', 'is_quote_status', 'quoted_status_id', 'quoted_status_id_str', 'quoted_status', 'retweet_count', 'favorite_count', 'favorited', 'retweeted', 'possibly_sensitive', 'lang'])\n"
     ]
    }
   ],
   "source": [
    "for tweet in tweepy.Cursor(api.user_timeline, id = \"hillaryclinton\").items(1):\n",
    "    print((tweet._json.keys()))"
   ]
  },
  {
   "cell_type": "code",
   "execution_count": 12,
   "metadata": {},
   "outputs": [],
   "source": [
    "tweets = []\n",
    "retweets = []\n",
    "user = []\n",
    "for tweet in tweepy.Cursor(api.user_timeline, id = \"hillaryclinton\").items(2000):\n",
    "    tweets.append(tweet._json['text'])\n",
    "    retweets.append(tweet._json['retweet_count'])\n",
    "    user.append(tweet._json['user']['screen_name'])"
   ]
  },
  {
   "cell_type": "code",
   "execution_count": 13,
   "metadata": {},
   "outputs": [
    {
     "data": {
      "text/html": [
       "<div>\n",
       "<style scoped>\n",
       "    .dataframe tbody tr th:only-of-type {\n",
       "        vertical-align: middle;\n",
       "    }\n",
       "\n",
       "    .dataframe tbody tr th {\n",
       "        vertical-align: top;\n",
       "    }\n",
       "\n",
       "    .dataframe thead th {\n",
       "        text-align: right;\n",
       "    }\n",
       "</style>\n",
       "<table border=\"1\" class=\"dataframe\">\n",
       "  <thead>\n",
       "    <tr style=\"text-align: right;\">\n",
       "      <th></th>\n",
       "      <th>tweets</th>\n",
       "      <th>retweets</th>\n",
       "      <th>user</th>\n",
       "    </tr>\n",
       "  </thead>\n",
       "  <tbody>\n",
       "    <tr>\n",
       "      <th>0</th>\n",
       "      <td>Such a pleasure seeing @BetteMidler back where...</td>\n",
       "      <td>5717</td>\n",
       "      <td>HillaryClinton</td>\n",
       "    </tr>\n",
       "    <tr>\n",
       "      <th>1</th>\n",
       "      <td>Yesterday was the court-ordered deadline for t...</td>\n",
       "      <td>18964</td>\n",
       "      <td>HillaryClinton</td>\n",
       "    </tr>\n",
       "    <tr>\n",
       "      <th>2</th>\n",
       "      <td>From mother to activist to candidate - congrat...</td>\n",
       "      <td>7944</td>\n",
       "      <td>HillaryClinton</td>\n",
       "    </tr>\n",
       "    <tr>\n",
       "      <th>3</th>\n",
       "      <td>It was wonderful to spend some time with the t...</td>\n",
       "      <td>7514</td>\n",
       "      <td>HillaryClinton</td>\n",
       "    </tr>\n",
       "    <tr>\n",
       "      <th>4</th>\n",
       "      <td>RT @domesticworkers: Miles de niños y niñas si...</td>\n",
       "      <td>590</td>\n",
       "      <td>HillaryClinton</td>\n",
       "    </tr>\n",
       "  </tbody>\n",
       "</table>\n",
       "</div>"
      ],
      "text/plain": [
       "                                              tweets  retweets            user\n",
       "0  Such a pleasure seeing @BetteMidler back where...      5717  HillaryClinton\n",
       "1  Yesterday was the court-ordered deadline for t...     18964  HillaryClinton\n",
       "2  From mother to activist to candidate - congrat...      7944  HillaryClinton\n",
       "3  It was wonderful to spend some time with the t...      7514  HillaryClinton\n",
       "4  RT @domesticworkers: Miles de niños y niñas si...       590  HillaryClinton"
      ]
     },
     "execution_count": 13,
     "metadata": {},
     "output_type": "execute_result"
    }
   ],
   "source": [
    "import pandas as pd\n",
    "df = pd.DataFrame({'tweets': tweets, 'retweets': retweets, 'user': user})\n",
    "df.head()"
   ]
  },
  {
   "cell_type": "markdown",
   "metadata": {},
   "source": [
    "### To Do\n",
    "\n",
    "- Write a function that takes in usernames and tweet number, and returns a `DataFrame` with the appropriate number of tweets, labeled user, tweet body, retweets, and geo location information.\n",
    "- Explore top retweets\n",
    "- Prepare for `sklearn`\n",
    "- Classification Models"
   ]
  },
  {
   "cell_type": "code",
   "execution_count": null,
   "metadata": {},
   "outputs": [],
   "source": [
    "# User CountVectorizer\n",
    "# or TFIDF vectorizer"
   ]
  },
  {
   "cell_type": "code",
   "execution_count": 14,
   "metadata": {},
   "outputs": [],
   "source": [
    "tweets = []\n",
    "retweets = []\n",
    "user = []\n",
    "for tweet in tweepy.Cursor(api.user_timeline, id = \"iamcardib\").items(2000):\n",
    "    tweets.append(tweet._json['text'])\n",
    "    retweets.append(tweet._json['retweet_count'])\n",
    "    user.append(tweet._json['user']['screen_name'])"
   ]
  },
  {
   "cell_type": "code",
   "execution_count": 15,
   "metadata": {},
   "outputs": [
    {
     "data": {
      "text/html": [
       "<div>\n",
       "<style scoped>\n",
       "    .dataframe tbody tr th:only-of-type {\n",
       "        vertical-align: middle;\n",
       "    }\n",
       "\n",
       "    .dataframe tbody tr th {\n",
       "        vertical-align: top;\n",
       "    }\n",
       "\n",
       "    .dataframe thead th {\n",
       "        text-align: right;\n",
       "    }\n",
       "</style>\n",
       "<table border=\"1\" class=\"dataframe\">\n",
       "  <thead>\n",
       "    <tr style=\"text-align: right;\">\n",
       "      <th></th>\n",
       "      <th>tweets</th>\n",
       "      <th>retweets</th>\n",
       "      <th>user</th>\n",
       "    </tr>\n",
       "  </thead>\n",
       "  <tbody>\n",
       "    <tr>\n",
       "      <th>0</th>\n",
       "      <td>Mood https://t.co/burVuT9Apz</td>\n",
       "      <td>11001</td>\n",
       "      <td>iamcardib</td>\n",
       "    </tr>\n",
       "    <tr>\n",
       "      <th>1</th>\n",
       "      <td>@CardiMila__ 😎</td>\n",
       "      <td>16</td>\n",
       "      <td>iamcardib</td>\n",
       "    </tr>\n",
       "    <tr>\n",
       "      <th>2</th>\n",
       "      <td>I got a baby i need some money shieeettt i nee...</td>\n",
       "      <td>1051</td>\n",
       "      <td>iamcardib</td>\n",
       "    </tr>\n",
       "    <tr>\n",
       "      <th>3</th>\n",
       "      <td>DO YOU SMELL WHAT CARDI IS COOKING ?</td>\n",
       "      <td>2748</td>\n",
       "      <td>iamcardib</td>\n",
       "    </tr>\n",
       "    <tr>\n",
       "      <th>4</th>\n",
       "      <td>People love doubting you then when you hit the...</td>\n",
       "      <td>2023</td>\n",
       "      <td>iamcardib</td>\n",
       "    </tr>\n",
       "  </tbody>\n",
       "</table>\n",
       "</div>"
      ],
      "text/plain": [
       "                                              tweets  retweets       user\n",
       "0                       Mood https://t.co/burVuT9Apz     11001  iamcardib\n",
       "1                                     @CardiMila__ 😎        16  iamcardib\n",
       "2  I got a baby i need some money shieeettt i nee...      1051  iamcardib\n",
       "3               DO YOU SMELL WHAT CARDI IS COOKING ?      2748  iamcardib\n",
       "4  People love doubting you then when you hit the...      2023  iamcardib"
      ]
     },
     "execution_count": 15,
     "metadata": {},
     "output_type": "execute_result"
    }
   ],
   "source": [
    "import pandas as pd\n",
    "df = pd.DataFrame({'tweets': tweets, 'retweets': retweets, 'user': user})\n",
    "df.head()"
   ]
  },
  {
   "cell_type": "markdown",
   "metadata": {},
   "source": [
    "# workflow for using tweets to predict the user\n",
    "## tfidf.fit_transform > sparse word matrix > X values > use this to predict"
   ]
  },
  {
   "cell_type": "code",
   "execution_count": null,
   "metadata": {},
   "outputs": [],
   "source": []
  },
  {
   "cell_type": "code",
   "execution_count": null,
   "metadata": {},
   "outputs": [],
   "source": []
  }
 ],
 "metadata": {
  "kernelspec": {
   "display_name": "Python 3",
   "language": "python",
   "name": "python3"
  },
  "language_info": {
   "codemirror_mode": {
    "name": "ipython",
    "version": 3
   },
   "file_extension": ".py",
   "mimetype": "text/x-python",
   "name": "python",
   "nbconvert_exporter": "python",
   "pygments_lexer": "ipython3",
   "version": "3.6.5"
  }
 },
 "nbformat": 4,
 "nbformat_minor": 2
}
